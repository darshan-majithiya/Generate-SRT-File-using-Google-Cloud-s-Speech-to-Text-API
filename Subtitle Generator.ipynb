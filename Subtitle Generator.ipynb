{
 "cells": [
  {
   "cell_type": "code",
   "execution_count": 1,
   "metadata": {},
   "outputs": [],
   "source": [
    "import pytube\n",
    "import os\n",
    "from google.cloud import storage\n",
    "import json\n",
    "import io\n",
    "from google.cloud import speech_v1\n",
    "from google.cloud.speech_v1 import enums\n",
    "from google.cloud.speech_v1 import types\n",
    "import subprocess\n",
    "from pydub.utils import mediainfo\n",
    "import subprocess\n",
    "import math\n",
    "import datetime\n",
    "import srt"
   ]
  },
  {
   "cell_type": "code",
   "execution_count": 2,
   "metadata": {},
   "outputs": [],
   "source": [
    "os.environ[\"GOOGLE_APPLICATION_CREDENTIALS\"]=\"credentials.json\""
   ]
  },
  {
   "cell_type": "code",
   "execution_count": 3,
   "metadata": {},
   "outputs": [],
   "source": [
    "BUCKET_NAME = \"video-subtitle-generation\" # update this with your bucket name\n",
    "link=\"https://www.youtube.com/watch?v=ImEnWAVRLU0\""
   ]
  },
  {
   "cell_type": "code",
   "execution_count": 4,
   "metadata": {},
   "outputs": [],
   "source": [
    "def upload_blob(bucket_name, source_file_name, destination_blob_name):\n",
    "    \"\"\"Uploads a file to the bucket.\"\"\"\n",
    "    # bucket_name = \"your-bucket-name\"\n",
    "    # source_file_name = \"local/path/to/file\"\n",
    "    # destination_blob_name = \"storage-object-name\"\n",
    "\n",
    "    storage_client = storage.Client()\n",
    "    bucket = storage_client.bucket(bucket_name)\n",
    "    blob = bucket.blob(destination_blob_name)\n",
    "\n",
    "    blob.upload_from_filename(source_file_name)\n",
    "\n",
    "    print(\n",
    "        \"File {} uploaded to {}.\".format(\n",
    "            source_file_name, destination_blob_name\n",
    "        )\n",
    "    )"
   ]
  },
  {
   "cell_type": "code",
   "execution_count": 5,
   "metadata": {},
   "outputs": [],
   "source": [
    "def download_video(link):\n",
    "    try: \n",
    "        #object creation using YouTube which was imported in the beginning \n",
    "        yt = pytube.YouTube(link) \n",
    "    except: \n",
    "        print(\"Connection Error\") #to handle exception \n",
    "    video_path = yt.streams.filter(progressive=True, file_extension='mp4').order_by('resolution').desc().first().download()\n",
    "    \n",
    "    # rename the path\n",
    "    new_path = video_path.split('/')\n",
    "    new_filename = f\"video.mp4\"\n",
    "    new_path[-1]= new_filename\n",
    "    new_path='/'.join(new_path)\n",
    "    os.rename(video_path, new_path)\n",
    "        \n",
    "    return new_path"
   ]
  },
  {
   "cell_type": "code",
   "execution_count": 6,
   "metadata": {},
   "outputs": [],
   "source": [
    "def video_info(video_filepath):\n",
    "    \"\"\" this function returns number of channels, bit rate, and sample rate of the video\"\"\"\n",
    "\n",
    "    video_data = mediainfo(video_filepath)\n",
    "    channels = video_data[\"channels\"]\n",
    "    bit_rate = video_data[\"bit_rate\"]\n",
    "    sample_rate = video_data[\"sample_rate\"]\n",
    "\n",
    "    return channels, bit_rate, sample_rate"
   ]
  },
  {
   "cell_type": "code",
   "execution_count": 7,
   "metadata": {},
   "outputs": [],
   "source": [
    "def video_to_audio(video_filepath, audio_filename, video_channels, video_bit_rate, video_sample_rate):\n",
    "    command = f\"ffmpeg -i {video_filepath} -b:a {video_bit_rate} -ac {video_channels} -ar {video_sample_rate} -vn {audio_filename}\"\n",
    "    subprocess.call(command, shell=True)\n",
    "    blob_name = f\"audios/{audio_filename}\"\n",
    "    upload_blob(BUCKET_NAME, audio_filename, blob_name)\n",
    "    return blob_name"
   ]
  },
  {
   "cell_type": "code",
   "execution_count": 8,
   "metadata": {},
   "outputs": [],
   "source": [
    "def long_running_recognize(storage_uri, channels, sample_rate):\n",
    "    \n",
    "    client = speech_v1.SpeechClient()\n",
    "\n",
    "    config = {\n",
    "        \"language_code\": \"en-US\",\n",
    "        \"sample_rate_hertz\": int(sample_rate),\n",
    "        \"encoding\": enums.RecognitionConfig.AudioEncoding.LINEAR16,\n",
    "        \"audio_channel_count\": int(channels),\n",
    "        \"enable_word_time_offsets\": True,\n",
    "        \"model\": \"video\",\n",
    "        \"enable_automatic_punctuation\":True\n",
    "    }\n",
    "    audio = {\"uri\": storage_uri}\n",
    "\n",
    "    operation = client.long_running_recognize(config, audio)\n",
    "\n",
    "    print(u\"Waiting for operation to complete...\")\n",
    "    response = operation.result()\n",
    "    return response\n"
   ]
  },
  {
   "cell_type": "code",
   "execution_count": 9,
   "metadata": {},
   "outputs": [],
   "source": [
    "def subtitle_generation(response, bin_size=3):\n",
    "    \"\"\"We define a bin of time period to display the words in sync with audio. \n",
    "    Here, bin_size = 3 means each bin is of 3 secs. \n",
    "    All the words in the interval of 3 secs in result will be grouped togather.\"\"\"\n",
    "    transcriptions = []\n",
    "    index = 0\n",
    " \n",
    "    for result in response.results:\n",
    "        try:\n",
    "            if result.alternatives[0].words[0].start_time.seconds:\n",
    "                # bin start -> for first word of result\n",
    "                start_sec = result.alternatives[0].words[0].start_time.seconds \n",
    "                start_microsec = result.alternatives[0].words[0].start_time.nanos * 0.001\n",
    "            else:\n",
    "                # bin start -> For First word of response\n",
    "                start_sec = 0\n",
    "                start_microsec = 0 \n",
    "            end_sec = start_sec + bin_size # bin end sec\n",
    "            \n",
    "            # for last word of result\n",
    "            last_word_end_sec = result.alternatives[0].words[-1].end_time.seconds\n",
    "            last_word_end_microsec = result.alternatives[0].words[-1].end_time.nanos * 0.001\n",
    "            \n",
    "            # bin transcript\n",
    "            transcript = result.alternatives[0].words[0].word\n",
    "            \n",
    "            index += 1 # subtitle index\n",
    "\n",
    "            for i in range(len(result.alternatives[0].words) - 1):\n",
    "                try:\n",
    "                    word = result.alternatives[0].words[i + 1].word\n",
    "                    word_start_sec = result.alternatives[0].words[i + 1].start_time.seconds\n",
    "                    word_start_microsec = result.alternatives[0].words[i + 1].start_time.nanos * 0.001 # 0.001 to convert nana -> micro\n",
    "                    word_end_sec = result.alternatives[0].words[i + 1].end_time.seconds\n",
    "                    word_end_microsec = result.alternatives[0].words[i + 1].end_time.nanos * 0.001\n",
    "\n",
    "                    if word_end_sec < end_sec:\n",
    "                        transcript = transcript + \" \" + word\n",
    "                    else:\n",
    "                        previous_word_end_sec = result.alternatives[0].words[i].end_time.seconds\n",
    "                        previous_word_end_microsec = result.alternatives[0].words[i].end_time.nanos * 0.001\n",
    "                        \n",
    "                        # append bin transcript\n",
    "                        transcriptions.append(srt.Subtitle(index, datetime.timedelta(0, start_sec, start_microsec), datetime.timedelta(0, previous_word_end_sec, previous_word_end_microsec), transcript))\n",
    "                        \n",
    "                        # reset bin parameters\n",
    "                        start_sec = word_start_sec\n",
    "                        start_microsec = word_start_microsec\n",
    "                        end_sec = start_sec + bin_size\n",
    "                        transcript = result.alternatives[0].words[i + 1].word\n",
    "                        \n",
    "                        index += 1\n",
    "                except IndexError:\n",
    "                    pass\n",
    "            # append transcript of last transcript in bin\n",
    "            transcriptions.append(srt.Subtitle(index, datetime.timedelta(0, start_sec, start_microsec), datetime.timedelta(0, last_word_end_sec, last_word_end_microsec), transcript))\n",
    "            index += 1\n",
    "        except IndexError:\n",
    "            pass\n",
    "    \n",
    "    # turn transcription list into subtitles\n",
    "    subtitles = srt.compose(transcriptions)\n",
    "    return subtitles"
   ]
  },
  {
   "cell_type": "code",
   "execution_count": 10,
   "metadata": {},
   "outputs": [],
   "source": [
    "video_path=download_video(link)"
   ]
  },
  {
   "cell_type": "code",
   "execution_count": 11,
   "metadata": {},
   "outputs": [],
   "source": [
    "channels, bit_rate, sample_rate = video_info(video_path)"
   ]
  },
  {
   "cell_type": "code",
   "execution_count": 13,
   "metadata": {},
   "outputs": [
    {
     "name": "stdout",
     "output_type": "stream",
     "text": [
      "File audio.wav uploaded to audios/audio.wav.\n"
     ]
    }
   ],
   "source": [
    "blob_name=video_to_audio(video_path, \"audio.wav\", channels, bit_rate, sample_rate)"
   ]
  },
  {
   "cell_type": "code",
   "execution_count": 14,
   "metadata": {},
   "outputs": [
    {
     "name": "stdout",
     "output_type": "stream",
     "text": [
      "Waiting for operation to complete...\n"
     ]
    }
   ],
   "source": [
    "gcs_uri = f\"gs://{BUCKET_NAME}/{blob_name}\"\n",
    "the_response = long_running_recognize(gcs_uri, channels, sample_rate)"
   ]
  },
  {
   "cell_type": "code",
   "execution_count": 15,
   "metadata": {},
   "outputs": [],
   "source": [
    "subtitles = subtitle_generation(the_response)"
   ]
  },
  {
   "cell_type": "code",
   "execution_count": 16,
   "metadata": {},
   "outputs": [],
   "source": [
    "with open(\"subtitles.srt\", \"w\") as f:\n",
    "    f.write(subtitles)"
   ]
  },
  {
   "cell_type": "code",
   "execution_count": null,
   "metadata": {},
   "outputs": [],
   "source": []
  }
 ],
 "metadata": {
  "kernelspec": {
   "display_name": "Python 3",
   "language": "python",
   "name": "python3"
  },
  "language_info": {
   "codemirror_mode": {
    "name": "ipython",
    "version": 3
   },
   "file_extension": ".py",
   "mimetype": "text/x-python",
   "name": "python",
   "nbconvert_exporter": "python",
   "pygments_lexer": "ipython3",
   "version": "3.8.2"
  }
 },
 "nbformat": 4,
 "nbformat_minor": 4
}
